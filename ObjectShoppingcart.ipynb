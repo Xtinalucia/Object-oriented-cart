{
 "cells": [
  {
   "cell_type": "code",
   "execution_count": 14,
   "id": "c3a97ad8",
   "metadata": {},
   "outputs": [
    {
     "name": "stdout",
     "output_type": "stream",
     "text": [
      "Name on the order?li\n",
      "What items do you need?bun\n",
      "Remove item(s)?bun\n",
      "Show item(s)?y\n",
      "['bun']\n"
     ]
    },
    {
     "data": {
      "text/plain": [
       "['bun']"
      ]
     },
     "execution_count": 14,
     "metadata": {},
     "output_type": "execute_result"
    }
   ],
   "source": [
    "#making the cart into obj oriented program\n",
    "#remove \n",
    "lst = []\n",
    "class Cart:\n",
    "    #methods\n",
    "    def __init__(self, items, delete, show):\n",
    "        self.item = item\n",
    "        self.delete = delete\n",
    "        self.show = show\n",
    "        self.lst = []\n",
    "        \n",
    "    def add_items(self):\n",
    "        self.item = input('Add items.')\n",
    "    def delete(self):\n",
    "        self.remove = input('deletes items.')\n",
    "    def show(self):\n",
    "        return {self.show}\n",
    "        \n",
    "def checkout():\n",
    "    customer_name = input('Name on the order?').title()\n",
    "    customers_lst = customer_name\n",
    "    while True:\n",
    "        item = input('What items do you need?')\n",
    "        delete = input('Remove item(s)?')\n",
    "        show = input('Show item(s)?')\n",
    "        lst.append(item)\n",
    "        print(lst)\n",
    "        break\n",
    "    return lst \n",
    "\n",
    "checkout()"
   ]
  },
  {
   "cell_type": "code",
   "execution_count": null,
   "id": "b08c0e41",
   "metadata": {},
   "outputs": [],
   "source": []
  }
 ],
 "metadata": {
  "kernelspec": {
   "display_name": "Python 3",
   "language": "python",
   "name": "python3"
  },
  "language_info": {
   "codemirror_mode": {
    "name": "ipython",
    "version": 3
   },
   "file_extension": ".py",
   "mimetype": "text/x-python",
   "name": "python",
   "nbconvert_exporter": "python",
   "pygments_lexer": "ipython3",
   "version": "3.8.8"
  }
 },
 "nbformat": 4,
 "nbformat_minor": 5
}
